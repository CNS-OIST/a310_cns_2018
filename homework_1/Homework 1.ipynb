{
 "cells": [
  {
   "cell_type": "markdown",
   "metadata": {},
   "source": [
    "# Homework 1 (Due: Feb 2, 2018)"
   ]
  },
  {
   "cell_type": "markdown",
   "metadata": {},
   "source": [
    "## 1. Ornstein-Uhlenbeck process\n",
    "\n",
    "The current/conductance input that a neuron gets *in vivo* is often modeled as a stochastic process with Gaussian statistics. However, pure Gaussian white noise is unfeasible due to lack of the temporal correlartion seen in experimental data, and therefore the time series called Ornstein-Uhlenbeck (OU) process is widely used. It is defined by\n",
    "\n",
    "$$\n",
    "X(t+1) = X(t) - \\alpha \\cdot X(t) + \\sigma \\zeta(t),\n",
    "$$\n",
    "\n",
    "where $\\alpha$ and $\\sigma$ are numerical parameters, and $\\zeta(t)$ is Gaussian white noise updated at each time step."
   ]
  },
  {
   "cell_type": "markdown",
   "metadata": {},
   "source": [
    "1. Write a Python function to generate an OU process from given parameters alpha and sigma. The function should also return the white noise ($\\zeta$) used. Plot an example comparing the OU process and white noise side by side.\n",
    "\n",
    "2. For fixed sigma, plot how the variance of an OU process changes with alpha. What seems to be the relationship?"
   ]
  },
  {
   "cell_type": "markdown",
   "metadata": {},
   "source": [
    "Note: You can use `numpy.random.randn` function to get Gaussian random numbers."
   ]
  },
  {
   "cell_type": "markdown",
   "metadata": {},
   "source": [
    "## 2. Attenuation and propagation\n",
    "\n",
    "1. In our axon example in the NEURON tutorial 1 with the `pas` mechanism, increase the number of recording sites so that we can densely monitor the membrane voltage of the axon. From this, plot how the membrane voltage attenuates in distance (x*L) at t=100. Try different `nseg` values and explain how the accuracy of the measurement improves with `nseg`.\n",
    "\n",
    "2. Add the `hh` mechanism in the axon, and measure the propagation speed of an action potential along the axon by comparing spatial voltage profiles at multiple time points (If necessary, increase `L`). How does the accuracy improve with `nseg`? "
   ]
  },
  {
   "cell_type": "markdown",
   "metadata": {},
   "source": [
    "Note: Use CNSutil.convert_to_array(reclist) to convert a list of NEURON vectors (reclist) to a 2d array."
   ]
  }
 ],
 "metadata": {
  "kernelspec": {
   "display_name": "Python 3",
   "language": "python",
   "name": "python3"
  },
  "language_info": {
   "codemirror_mode": {
    "name": "ipython",
    "version": 3
   },
   "file_extension": ".py",
   "mimetype": "text/x-python",
   "name": "python",
   "nbconvert_exporter": "python",
   "pygments_lexer": "ipython3",
   "version": "3.6.4"
  }
 },
 "nbformat": 4,
 "nbformat_minor": 2
}
