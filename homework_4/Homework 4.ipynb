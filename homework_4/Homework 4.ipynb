{
 "cells": [
  {
   "cell_type": "markdown",
   "metadata": {},
   "source": [
    "# Homework 4 (Due: April 23, 2018)"
   ]
  },
  {
   "cell_type": "markdown",
   "metadata": {},
   "source": [
    "## 1. Calcium current\n",
    "\n",
    "In the second part and later on, use `thalamocortical_neuron.py`, which contains a cell class defining a model of the thalamocortical relay cell. This model contains two different implementations of the T-type calcium channel, `itGHK`, based on the GHK equation, and `itOhmic`, based on the ohmic approximation. Initially, the conductance parameter `gcabar_itOhmic` is set to zero, and therefore the ohmic channel generates no current.\n",
    "\n",
    "1. Consider a dendritic spine which is approximately a sphere with a diameter of 0.5 μm. If the baseline calcium concentration is 240 nM, how many calcium ions are contained within the spine? Also, if the temperature is 34ºC and extracellular calcium concentration is 2 mM, what is the Nernst potential of the calcium ion?\n",
    "2. Run a voltage clamp simulation of a relay cell, and record the current through the `itOhmic` channel in the distal dendrite (`dend1[1](0.5).ica_itOhmic`) to find the maximal conductance, `dend1[1].gcabar_itOhmic`, which generates the current profile that well approximates the GHK current (`dend1[1](0.5).ica_itGHK`). Note that you will have to use the voltage step sufficiently close to the resting membrane potential _V_=-74 mV to make `itOhmic` a good approximation of `itGHK`. Also note that you can turn off the GHK current by setting `dend1[1].pcabar_itGHK` to zero.\n",
    "3. With `dend1[1].gcabar_itOhmic` obtained in 2, compare the current profile of the ohmic and GHK channel with larger voltage steps. Is there a substantial difference in a physiological range (-80 mV ≤_V_≤ 10 mV)?\n",
    "4. Switch to a curren clamp simulation, show whether using the ohmic current makes significant difference in spiking of this cell or not.\n"
   ]
  },
  {
   "cell_type": "markdown",
   "metadata": {},
   "source": [
    "## 2. Vogels-Abbott model\n",
    "\n",
    "Here you will work with a simulation of 1000 randomly connected Morris-Lecar neurons in the tutorial 5. \n",
    "\n",
    "1. If `gexc`= 2 nS, what is the maximal inhibition/excitation ratio (`ginh`/`gexc`) that the network generates a stable firing with?\n",
    "2. Try several different `gexc` up to 30 nS, find the inhibition/excitation ratio? Is the ratio approximately the same, or changing with `gexc`? Explain your result.\n",
    "3. Compare the firing pattern between the small and large `gexc`, and disscuss why the differences arise. \n",
    "4. (Optional) Compare your results with Fig. 1 in [Ostojic, S. (2013) Nat Neurosci 17, 594- 600](https://www.nature.com/articles/nn.3658). \n"
   ]
  }
 ],
 "metadata": {
  "kernel_info": {
   "name": "python3"
  },
  "kernelspec": {
   "display_name": "Python 3",
   "language": "python",
   "name": "python3"
  },
  "language_info": {
   "codemirror_mode": {
    "name": "ipython",
    "version": 3
   },
   "file_extension": ".py",
   "mimetype": "text/x-python",
   "name": "python",
   "nbconvert_exporter": "python",
   "pygments_lexer": "ipython3",
   "version": "3.6.3"
  },
  "nteract": {
   "version": "0.8.4"
  }
 },
 "nbformat": 4,
 "nbformat_minor": 2
}
