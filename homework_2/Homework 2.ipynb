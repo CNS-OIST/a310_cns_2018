{
 "cells": [
  {
   "cell_type": "markdown",
   "metadata": {},
   "source": [
    "# Homework 2 (Due: Feb 28, 2018)"
   ]
  },
  {
   "cell_type": "markdown",
   "metadata": {},
   "source": [
    "## 1. Simple passive cable cable\n",
    "\n",
    "Following an example in Tutorial 1, create an axon simulation with the following specifications: \n",
    "\n",
    "* Diameter (`diam`) = 1 um and length (`L`) = 1000 um,\n",
    "* Capacitance per area (`cm`) = 1 uF/cm<sup>2</sup>,\n",
    "* Axial resistance (`Ra`) = 150 Ohm cm,\n",
    "* Passive mechanism (`pas`) with the conductance per area = 5×10<sup>-5</sup> S/cm<sup>2</sup>.\n",
    "* A current clamp electrode (`ic`) near one end (`x`≈0) that injects 100 pA for 200 ms.\n",
    "\n",
    "Also don't forget increasing `nseg` sufficiently large (>100). Using this axon model, answer the following questions:\n",
    "\n",
    "1. What are the theoretical time and space constant for this axon membrane?\n",
    "2. Run the simulation and measure the input resistance and membrane time constant from the simulated data.  How does the measured time constant compare with the theoretical value?\n",
    "3. Measure the space constant from the simulated data. How does it compare with the theoretical value?\n",
    "4. Draw attenuation curve as Fig. 2.4 in the Koch. By changing the axon length, make several more attenuation curves. Which pattern do your curves follow in Fig 2.4, \"sealed end\" or \"open end\"?"
   ]
  },
  {
   "cell_type": "markdown",
   "metadata": {},
   "source": [
    "## 2. Voltage signal filtering in a passive pyramidal neuron\n",
    "\n",
    "Use the **current clamp simulation** in Tutorial 2 to answer the following questions:\n",
    "\n",
    "1. As in the tutorial, record the somatic membrane potentials in response to sustained (duration>100 ms) current injection at different locations. Plot the distance to the soma versus peak deploarization.\n",
    "2. Do the same procedure while the electrode makes a short (<5 ms) current injection. Again plot the distance to the soma versus peak deploarization.\n",
    "\n",
    "Have you observed any significant difference between your answer to 1 and 2? If so, discuss what underlies the discrepancies. "
   ]
  },
  {
   "cell_type": "markdown",
   "metadata": {},
   "source": [
    "## 3. Synaptic scaling\n",
    "\n",
    "Use the simulation in the **1 Pyramidal cell + 1 stimulus** part of Tutorial 2 that simulates a cortical pyramidal neuron with the passive membrane and one excitatory synapse that activates at _t_=50 ms.\n",
    "\n",
    "Note that you will need to use `r18_1.distance_from_soma` function to calculate the distance of the synapse from the soma, i.e.,\n",
    "```\n",
    "r18_1.distance_from_soma(h.Exp2Syn[0])\n",
    "```\n",
    "will return the distance of a synapse to the soma in um.\n",
    "\n",
    "1. Some studies claimed that an amplitude of an EPSP measured _at the soma_ is approximately independent of the input location, because the synaptic conductance increases with the distance (e.g., [Magee and Cook, Nat Neurosci, 2002](http://www.nature.com/neuro/journal/v3/n9/full/nn0900_895.html)). Here we ask you to find how the synaptic conductance should scale to reproduce their results:\n",
    "   1. In the beginning, the synapse is located very close to the soma. Run the simulation with the synaptic conductance `nc.weight[0]`=0.1 nS and record the EPSP amplitude. Then, change the synaptic conductance until you find a conductance value to give an EPSP with an amplitude ~0.2 mV.\n",
    "   2. Move the synapses to several different locations along 1) a basal and 2) apical dendrite, and find a synaptic conductance to evoke the same EPSP of ~0.2 mV. For each branch, try at least four locations, and make sure that at least one of them is very far from the soma (distance > 950 μm). Also, record the distance to the soma from each point.\n",
    "   3. For each branch, plot two graphs: 1) Distance vs. scaled synaptic conductance. 2) Original EPSP amplitude (when `nc.weight[0]`=0.1 nS) vs. Scaling factor (new `nc.weight[0]`/0.1 nS). Does the second graph show a linear scaling (i.e., scaling factor ~ 1/voltage attenuation)?\n",
    "2. Now repeat the same procedure for the EPSP amplitude of about 2 mV (measured at the soma). Does this give you a similar result? If not, discuss why. Here please make sure to try a point that is very far from the soma."
   ]
  },
  {
   "cell_type": "markdown",
   "metadata": {},
   "source": [
    "## 4.  Summation of excitatory synaptic inputs\n",
    "\n",
    "\n",
    "Use the simulation in the **1 Pyramidal cell + 2 stimuli** part of Tutorial 2 that simulates a cortical pyramidal neuron with the passive membrane and two synapses, managed by two point process managers. Both synapses activate at _t_=50 ms, and both are set to excitatory ones (e = 0 mV).\n",
    "\n",
    "Run three simulations and record the EPSP traces at the soma: 1) Both synapses are active (EPSP<sub>1+2</sub>), 2) only the first synapse is active (set `nc[1].weight[0]`= 0 to turn off the second synapse; EPSP<sub>1</sub>), 3) only the second synapse is active (set `nc[0].weight[0]`= 0 to turn off the first; EPSP<sub>2</sub>). \n",
    "\n",
    "Do they sum linearly (approximately) , i.e., EPSP<sub>1+2</sub> ≈ EPSP<sub>1</sub> + EPSP<sub>2</sub>? By moving two synapses around, find out in which situation the the summation is approximately linear or not.\n",
    "\n",
    "**Note:** Before you run simulations, make sure that you properly rescale synaptic conductances (as you did in \"Synaptic scaling\") each time so that the EPSP sizes of two synapses are similar."
   ]
  },
  {
   "cell_type": "markdown",
   "metadata": {},
   "source": [
    "## 5.  Summation of excitatory and inhibitory synaptic inputs \n",
    "\n",
    "Here we ask you to reproduce a version of Fig 5.1 in the Koch for the transient synaptic inputs. Use the **1 Pyramidal cell + 2 stimuli**, but make one of the synapses inhibitory by changing the reversal potential (`e`) to -76 mV (Note that this is the same as the resting membrane potential and threfore the synapse will deliver _shunting inhibition_). Also change `tau2`=100 ms and `stim[1].start`=0 ms so that it should activate slowly like GABA<sub>B</sub> synapses from the beginning of the simulation.\n",
    "\n",
    "1. __(Proximal inhibition)__ Place the excitatory synapse to a distal part of a basal dendrite and the inhibitory synapse close to soma. Run simulations with different conductance values, make a plot for the EPSP amplitude as Fig. 5.1A.\n",
    "2. __(Distal inhibition)__ Now move the inhibitory synapse also to a distal part in the _same dendrite_ as the excitatory synapse, and make a plot as 1 (i.e., Fig. 5.1B).\n",
    "3. __(Different branch)__ Move the inhibitory synapse to a different dendrite than the excitatory synapse, and make a similar plot as 1 and 2.\n",
    "4. It is known that parvalbumin (PV)-expressing inhibitory interneurons prefer making synapses close to a soma of a pyramidal neuron, whereas other interneurons such as somatostatin (SOM)-expressing neurons are known to prefer dendrites ([Thomson and Lamy, Front. Neurosci., 2007](http://journal.frontiersin.org/article/10.3389/neuro.01.1.1.002.2007)). Discuss what you can predict about the computational roles of different interneurons based on your simulation results (e.g. [Wilson et al., Nature, 2012](http://www.nature.com/nature/journal/v488/n7411/full/nature11347.html))."
   ]
  }
 ],
 "metadata": {
  "kernel_info": {
   "name": "python3"
  },
  "kernelspec": {
   "display_name": "Python 3",
   "language": "python",
   "name": "python3"
  },
  "language_info": {
   "codemirror_mode": {
    "name": "ipython",
    "version": 3
   },
   "file_extension": ".py",
   "mimetype": "text/x-python",
   "name": "python",
   "nbconvert_exporter": "python",
   "pygments_lexer": "ipython3",
   "version": "3.6.4"
  },
  "nteract": {
   "version": "0.7.0"
  }
 },
 "nbformat": 4,
 "nbformat_minor": 2
}
